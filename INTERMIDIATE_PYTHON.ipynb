{
  "nbformat": 4,
  "nbformat_minor": 0,
  "metadata": {
    "colab": {
      "name": "INTERMIDIATE PYTHON",
      "provenance": []
    },
    "kernelspec": {
      "name": "python3",
      "display_name": "Python 3"
    },
    "language_info": {
      "name": "python"
    }
  },
  "cells": [
    {
      "cell_type": "code",
      "execution_count": null,
      "metadata": {
        "id": "xvfm-psEJqs2"
      },
      "outputs": [],
      "source": [
        "# This skills that we had attoned from our beginner training is going to be handy when we re-learn these syntax again but with increased difficulty.\n",
        "\n",
        "# They only increase our knowledge and expectise in the langauge of python.\n",
        "\n",
        "# After sharping our coding skills in python we can start building large data based projects with increased problems and a variety of solutions.\n",
        "\n",
        "# We will be building two real world minor project applications mainly based on our syntax and to continously work on them to sharpen our skills,\n",
        "\n",
        "# after those we can focus on the OOP skills and increase our use of built-in functions,databases (django)  and build a web application."
      ]
    },
    {
      "cell_type": "code",
      "source": [
        "# LISTS\n",
        "\n",
        "# Lists are collectable datatypes that are mutable , ordered and duplicated items.\n",
        "\n",
        "# As we recollect our learnt experience lists are commanded with square brackets with elemnts inside the brackects seperated by commas.\n",
        "\n",
        "mylist = [\"Chowder\",\"Molemo\",\"Batman\",\"Thabang\",\"Kamogelo\"]\n",
        "\n",
        "\n",
        "\n",
        "# Our lists can contain different datatypes (interger , bolean function and strings)\n",
        "\n",
        "# It also allows us to duplicate elements.\n",
        "\n",
        "mylist = [\"Chowder\",\"Molemo\",\"Batman\",\"Thabang\",\"Kamogelo\"]\n",
        "\n",
        "print(mylist)\n",
        "\n",
        "mylist2 = [45 , True , \"Sendy\" ,\"Sendy\"]\n",
        "\n",
        "print(mylist2)\n",
        "\n",
        "# To access a certain element you will need to refer to its index.\n",
        "\n",
        "Item = mylist[3]\n",
        "print(Item)\n",
        "\n",
        "# To refer to the last item , we use \"-1\"\n",
        "\n",
        "# and if you want to iterate your list you can use a \"FOR in LOOP\"\n",
        "\n",
        "for i in mylist2 :\n",
        "  print(i)\n",
        "\n",
        "\n",
        "# So if you want to verify if an item is an list , you can use an \"IF STATEMENT\"\n",
        "\n",
        "for \"Chowder\" in mylist:\n",
        "  print(\"TRUE\")\n",
        "else:\n",
        "  print(\"False\")\n",
        "\n",
        "\n"
      ],
      "metadata": {
        "id": "SrffUrUkL6Tf"
      },
      "execution_count": null,
      "outputs": []
    }
  ]
}